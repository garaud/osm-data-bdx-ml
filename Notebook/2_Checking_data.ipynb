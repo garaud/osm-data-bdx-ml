{
 "cells": [
  {
   "cell_type": "code",
   "execution_count": 9,
   "metadata": {
    "collapsed": true
   },
   "outputs": [],
   "source": [
    "import pandas as pd\n",
    "from pathlib import Path"
   ]
  },
  {
   "cell_type": "code",
   "execution_count": 10,
   "metadata": {},
   "outputs": [],
   "source": [
    "# Variables\n",
    "\n",
    "DATADIR = Path(\"/Users/babou/github/meetup_osm/data/\")\n",
    "\n",
    "OSM_ELEMENT_FILE = DATADIR / 'element-metadata.csv'\n",
    "OSM_USER_FILE = DATADIR / 'user-metadata-extra.csv'\n",
    "# luigi process automatically select 5 groups for the cluster\n",
    "CLUSTER_FILE = DATADIR / \"user-metadata-pca-auto-clusters-5-kmeans.h5\" # OK\n",
    "PCA_FILE = DATADIR / 'user-metadata-auto-n_components-min-3-max-12-pca.h5'"
   ]
  },
  {
   "cell_type": "code",
   "execution_count": 11,
   "metadata": {},
   "outputs": [
    {
     "name": "stdout",
     "output_type": "stream",
     "text": [
      "  - user-metadata-auto-n_components-min-3-max-12-pca.h5\n"
     ]
    }
   ],
   "source": [
    "centroid = pd.read_hdf(CLUSTER_FILE, \"/centroids\")\n",
    "cluster = pd.read_hdf(CLUSTER_FILE, \"/individuals\")\n",
    "print(\"  - \" + PCA_FILE.name)\n",
    "pcafeatures = pd.read_hdf(PCA_FILE, \"/features\")\n",
    "pcaind = pd.read_hdf(PCA_FILE, \"/individuals\")"
   ]
  },
  {
   "cell_type": "markdown",
   "metadata": {},
   "source": [
    "## Centroid : "
   ]
  },
  {
   "cell_type": "code",
   "execution_count": 17,
   "metadata": {},
   "outputs": [
    {
     "data": {
      "text/html": [
       "<div>\n",
       "<style scoped>\n",
       "    .dataframe tbody tr th:only-of-type {\n",
       "        vertical-align: middle;\n",
       "    }\n",
       "\n",
       "    .dataframe tbody tr th {\n",
       "        vertical-align: top;\n",
       "    }\n",
       "\n",
       "    .dataframe thead th {\n",
       "        text-align: right;\n",
       "    }\n",
       "</style>\n",
       "<table border=\"1\" class=\"dataframe\">\n",
       "  <thead>\n",
       "    <tr style=\"text-align: right;\">\n",
       "      <th></th>\n",
       "      <th>PC1</th>\n",
       "      <th>PC2</th>\n",
       "      <th>PC3</th>\n",
       "      <th>PC4</th>\n",
       "      <th>PC5</th>\n",
       "      <th>PC6</th>\n",
       "      <th>n_individuals</th>\n",
       "    </tr>\n",
       "  </thead>\n",
       "  <tbody>\n",
       "    <tr>\n",
       "      <th>0</th>\n",
       "      <td>1.629894</td>\n",
       "      <td>-0.036567</td>\n",
       "      <td>-0.101004</td>\n",
       "      <td>-0.115114</td>\n",
       "      <td>-0.112304</td>\n",
       "      <td>-0.007417</td>\n",
       "      <td>672</td>\n",
       "    </tr>\n",
       "    <tr>\n",
       "      <th>1</th>\n",
       "      <td>-0.200596</td>\n",
       "      <td>-0.468670</td>\n",
       "      <td>1.105160</td>\n",
       "      <td>0.042709</td>\n",
       "      <td>0.115720</td>\n",
       "      <td>-0.051030</td>\n",
       "      <td>464</td>\n",
       "    </tr>\n",
       "    <tr>\n",
       "      <th>2</th>\n",
       "      <td>-0.286369</td>\n",
       "      <td>-0.796064</td>\n",
       "      <td>-0.668749</td>\n",
       "      <td>0.245160</td>\n",
       "      <td>0.218437</td>\n",
       "      <td>0.173864</td>\n",
       "      <td>581</td>\n",
       "    </tr>\n",
       "    <tr>\n",
       "      <th>3</th>\n",
       "      <td>-0.858378</td>\n",
       "      <td>0.022650</td>\n",
       "      <td>-0.043285</td>\n",
       "      <td>-0.132918</td>\n",
       "      <td>-0.150288</td>\n",
       "      <td>-0.087490</td>\n",
       "      <td>893</td>\n",
       "    </tr>\n",
       "    <tr>\n",
       "      <th>4</th>\n",
       "      <td>-0.130518</td>\n",
       "      <td>1.277638</td>\n",
       "      <td>-0.035207</td>\n",
       "      <td>0.062728</td>\n",
       "      <td>0.053738</td>\n",
       "      <td>0.010708</td>\n",
       "      <td>536</td>\n",
       "    </tr>\n",
       "  </tbody>\n",
       "</table>\n",
       "</div>"
      ],
      "text/plain": [
       "        PC1       PC2       PC3       PC4       PC5       PC6  n_individuals\n",
       "0  1.629894 -0.036567 -0.101004 -0.115114 -0.112304 -0.007417            672\n",
       "1 -0.200596 -0.468670  1.105160  0.042709  0.115720 -0.051030            464\n",
       "2 -0.286369 -0.796064 -0.668749  0.245160  0.218437  0.173864            581\n",
       "3 -0.858378  0.022650 -0.043285 -0.132918 -0.150288 -0.087490            893\n",
       "4 -0.130518  1.277638 -0.035207  0.062728  0.053738  0.010708            536"
      ]
     },
     "execution_count": 17,
     "metadata": {},
     "output_type": "execute_result"
    }
   ],
   "source": [
    "centroid.head()"
   ]
  },
  {
   "cell_type": "code",
   "execution_count": 15,
   "metadata": {},
   "outputs": [
    {
     "data": {
      "text/plain": [
       "(5, 7)"
      ]
     },
     "execution_count": 15,
     "metadata": {},
     "output_type": "execute_result"
    }
   ],
   "source": [
    "centroid.shape"
   ]
  },
  {
   "cell_type": "markdown",
   "metadata": {},
   "source": [
    "# Cluster : "
   ]
  },
  {
   "cell_type": "code",
   "execution_count": 24,
   "metadata": {},
   "outputs": [
    {
     "data": {
      "text/html": [
       "<div>\n",
       "<style scoped>\n",
       "    .dataframe tbody tr th:only-of-type {\n",
       "        vertical-align: middle;\n",
       "    }\n",
       "\n",
       "    .dataframe tbody tr th {\n",
       "        vertical-align: top;\n",
       "    }\n",
       "\n",
       "    .dataframe thead th {\n",
       "        text-align: right;\n",
       "    }\n",
       "</style>\n",
       "<table border=\"1\" class=\"dataframe\">\n",
       "  <thead>\n",
       "    <tr style=\"text-align: right;\">\n",
       "      <th></th>\n",
       "      <th>PC1</th>\n",
       "      <th>PC2</th>\n",
       "      <th>PC3</th>\n",
       "      <th>PC4</th>\n",
       "      <th>PC5</th>\n",
       "      <th>PC6</th>\n",
       "      <th>Xclust</th>\n",
       "    </tr>\n",
       "    <tr>\n",
       "      <th>uid</th>\n",
       "      <th></th>\n",
       "      <th></th>\n",
       "      <th></th>\n",
       "      <th></th>\n",
       "      <th></th>\n",
       "      <th></th>\n",
       "      <th></th>\n",
       "    </tr>\n",
       "  </thead>\n",
       "  <tbody>\n",
       "    <tr>\n",
       "      <th>1626</th>\n",
       "      <td>-0.053162</td>\n",
       "      <td>1.532156</td>\n",
       "      <td>-0.364865</td>\n",
       "      <td>0.956333</td>\n",
       "      <td>-0.421991</td>\n",
       "      <td>-0.543583</td>\n",
       "      <td>4</td>\n",
       "    </tr>\n",
       "    <tr>\n",
       "      <th>3130</th>\n",
       "      <td>-0.235988</td>\n",
       "      <td>-0.970916</td>\n",
       "      <td>-0.734822</td>\n",
       "      <td>0.806500</td>\n",
       "      <td>-0.308419</td>\n",
       "      <td>-0.291420</td>\n",
       "      <td>2</td>\n",
       "    </tr>\n",
       "    <tr>\n",
       "      <th>1399</th>\n",
       "      <td>-0.211078</td>\n",
       "      <td>-0.937251</td>\n",
       "      <td>-0.737222</td>\n",
       "      <td>0.824992</td>\n",
       "      <td>-0.282533</td>\n",
       "      <td>-0.312313</td>\n",
       "      <td>2</td>\n",
       "    </tr>\n",
       "    <tr>\n",
       "      <th>2488</th>\n",
       "      <td>-0.110220</td>\n",
       "      <td>1.014086</td>\n",
       "      <td>0.007311</td>\n",
       "      <td>1.074932</td>\n",
       "      <td>-0.661216</td>\n",
       "      <td>-0.205904</td>\n",
       "      <td>4</td>\n",
       "    </tr>\n",
       "    <tr>\n",
       "      <th>5657</th>\n",
       "      <td>-0.977246</td>\n",
       "      <td>0.793641</td>\n",
       "      <td>-0.448550</td>\n",
       "      <td>1.127890</td>\n",
       "      <td>-0.554607</td>\n",
       "      <td>-0.403360</td>\n",
       "      <td>3</td>\n",
       "    </tr>\n",
       "  </tbody>\n",
       "</table>\n",
       "</div>"
      ],
      "text/plain": [
       "           PC1       PC2       PC3       PC4       PC5       PC6  Xclust\n",
       "uid                                                                     \n",
       "1626 -0.053162  1.532156 -0.364865  0.956333 -0.421991 -0.543583       4\n",
       "3130 -0.235988 -0.970916 -0.734822  0.806500 -0.308419 -0.291420       2\n",
       "1399 -0.211078 -0.937251 -0.737222  0.824992 -0.282533 -0.312313       2\n",
       "2488 -0.110220  1.014086  0.007311  1.074932 -0.661216 -0.205904       4\n",
       "5657 -0.977246  0.793641 -0.448550  1.127890 -0.554607 -0.403360       3"
      ]
     },
     "execution_count": 24,
     "metadata": {},
     "output_type": "execute_result"
    }
   ],
   "source": [
    "cluster.head()"
   ]
  },
  {
   "cell_type": "code",
   "execution_count": 25,
   "metadata": {},
   "outputs": [
    {
     "data": {
      "text/plain": [
       "(3146, 7)"
      ]
     },
     "execution_count": 25,
     "metadata": {},
     "output_type": "execute_result"
    }
   ],
   "source": [
    "cluster.shape"
   ]
  },
  {
   "cell_type": "code",
   "execution_count": 35,
   "metadata": {
    "collapsed": true
   },
   "outputs": [],
   "source": [
    "cluster.reset_index(inplace=True)"
   ]
  },
  {
   "cell_type": "code",
   "execution_count": 36,
   "metadata": {},
   "outputs": [
    {
     "data": {
      "text/html": [
       "<div>\n",
       "<style scoped>\n",
       "    .dataframe tbody tr th:only-of-type {\n",
       "        vertical-align: middle;\n",
       "    }\n",
       "\n",
       "    .dataframe tbody tr th {\n",
       "        vertical-align: top;\n",
       "    }\n",
       "\n",
       "    .dataframe thead th {\n",
       "        text-align: right;\n",
       "    }\n",
       "</style>\n",
       "<table border=\"1\" class=\"dataframe\">\n",
       "  <thead>\n",
       "    <tr style=\"text-align: right;\">\n",
       "      <th></th>\n",
       "      <th>uid</th>\n",
       "      <th>PC1</th>\n",
       "      <th>PC2</th>\n",
       "      <th>PC3</th>\n",
       "      <th>PC4</th>\n",
       "      <th>PC5</th>\n",
       "      <th>PC6</th>\n",
       "      <th>Xclust</th>\n",
       "    </tr>\n",
       "  </thead>\n",
       "  <tbody>\n",
       "    <tr>\n",
       "      <th>0</th>\n",
       "      <td>1626</td>\n",
       "      <td>-0.053162</td>\n",
       "      <td>1.532156</td>\n",
       "      <td>-0.364865</td>\n",
       "      <td>0.956333</td>\n",
       "      <td>-0.421991</td>\n",
       "      <td>-0.543583</td>\n",
       "      <td>4</td>\n",
       "    </tr>\n",
       "    <tr>\n",
       "      <th>1</th>\n",
       "      <td>3130</td>\n",
       "      <td>-0.235988</td>\n",
       "      <td>-0.970916</td>\n",
       "      <td>-0.734822</td>\n",
       "      <td>0.806500</td>\n",
       "      <td>-0.308419</td>\n",
       "      <td>-0.291420</td>\n",
       "      <td>2</td>\n",
       "    </tr>\n",
       "    <tr>\n",
       "      <th>2</th>\n",
       "      <td>1399</td>\n",
       "      <td>-0.211078</td>\n",
       "      <td>-0.937251</td>\n",
       "      <td>-0.737222</td>\n",
       "      <td>0.824992</td>\n",
       "      <td>-0.282533</td>\n",
       "      <td>-0.312313</td>\n",
       "      <td>2</td>\n",
       "    </tr>\n",
       "    <tr>\n",
       "      <th>3</th>\n",
       "      <td>2488</td>\n",
       "      <td>-0.110220</td>\n",
       "      <td>1.014086</td>\n",
       "      <td>0.007311</td>\n",
       "      <td>1.074932</td>\n",
       "      <td>-0.661216</td>\n",
       "      <td>-0.205904</td>\n",
       "      <td>4</td>\n",
       "    </tr>\n",
       "    <tr>\n",
       "      <th>4</th>\n",
       "      <td>5657</td>\n",
       "      <td>-0.977246</td>\n",
       "      <td>0.793641</td>\n",
       "      <td>-0.448550</td>\n",
       "      <td>1.127890</td>\n",
       "      <td>-0.554607</td>\n",
       "      <td>-0.403360</td>\n",
       "      <td>3</td>\n",
       "    </tr>\n",
       "  </tbody>\n",
       "</table>\n",
       "</div>"
      ],
      "text/plain": [
       "    uid       PC1       PC2       PC3       PC4       PC5       PC6  Xclust\n",
       "0  1626 -0.053162  1.532156 -0.364865  0.956333 -0.421991 -0.543583       4\n",
       "1  3130 -0.235988 -0.970916 -0.734822  0.806500 -0.308419 -0.291420       2\n",
       "2  1399 -0.211078 -0.937251 -0.737222  0.824992 -0.282533 -0.312313       2\n",
       "3  2488 -0.110220  1.014086  0.007311  1.074932 -0.661216 -0.205904       4\n",
       "4  5657 -0.977246  0.793641 -0.448550  1.127890 -0.554607 -0.403360       3"
      ]
     },
     "execution_count": 36,
     "metadata": {},
     "output_type": "execute_result"
    }
   ],
   "source": [
    "cluster.head()"
   ]
  },
  {
   "cell_type": "code",
   "execution_count": 37,
   "metadata": {},
   "outputs": [
    {
     "data": {
      "text/plain": [
       "uid         int64\n",
       "PC1       float64\n",
       "PC2       float64\n",
       "PC3       float64\n",
       "PC4       float64\n",
       "PC5       float64\n",
       "PC6       float64\n",
       "Xclust      int32\n",
       "dtype: object"
      ]
     },
     "execution_count": 37,
     "metadata": {},
     "output_type": "execute_result"
    }
   ],
   "source": [
    "cluster.dtypes"
   ]
  },
  {
   "cell_type": "code",
   "execution_count": null,
   "metadata": {
    "collapsed": true
   },
   "outputs": [],
   "source": []
  },
  {
   "cell_type": "code",
   "execution_count": null,
   "metadata": {
    "collapsed": true
   },
   "outputs": [],
   "source": []
  },
  {
   "cell_type": "code",
   "execution_count": null,
   "metadata": {
    "collapsed": true
   },
   "outputs": [],
   "source": []
  },
  {
   "cell_type": "markdown",
   "metadata": {},
   "source": [
    "## pcafeatures : "
   ]
  },
  {
   "cell_type": "code",
   "execution_count": 20,
   "metadata": {},
   "outputs": [
    {
     "data": {
      "text/html": [
       "<div>\n",
       "<style scoped>\n",
       "    .dataframe tbody tr th:only-of-type {\n",
       "        vertical-align: middle;\n",
       "    }\n",
       "\n",
       "    .dataframe tbody tr th {\n",
       "        vertical-align: top;\n",
       "    }\n",
       "\n",
       "    .dataframe thead th {\n",
       "        text-align: right;\n",
       "    }\n",
       "</style>\n",
       "<table border=\"1\" class=\"dataframe\">\n",
       "  <thead>\n",
       "    <tr style=\"text-align: right;\">\n",
       "      <th></th>\n",
       "      <th>PC1</th>\n",
       "      <th>PC2</th>\n",
       "      <th>PC3</th>\n",
       "      <th>PC4</th>\n",
       "      <th>PC5</th>\n",
       "      <th>PC6</th>\n",
       "    </tr>\n",
       "  </thead>\n",
       "  <tbody>\n",
       "    <tr>\n",
       "      <th>lifespan</th>\n",
       "      <td>-0.001143</td>\n",
       "      <td>0.144725</td>\n",
       "      <td>-0.005381</td>\n",
       "      <td>0.040387</td>\n",
       "      <td>0.012579</td>\n",
       "      <td>0.014347</td>\n",
       "    </tr>\n",
       "    <tr>\n",
       "      <th>n_inscription_days</th>\n",
       "      <td>0.053813</td>\n",
       "      <td>0.100546</td>\n",
       "      <td>0.014008</td>\n",
       "      <td>0.270947</td>\n",
       "      <td>-0.058583</td>\n",
       "      <td>-0.063313</td>\n",
       "    </tr>\n",
       "    <tr>\n",
       "      <th>n_activity_days</th>\n",
       "      <td>-0.018216</td>\n",
       "      <td>0.359796</td>\n",
       "      <td>-0.003768</td>\n",
       "      <td>0.059718</td>\n",
       "      <td>0.005612</td>\n",
       "      <td>0.123337</td>\n",
       "    </tr>\n",
       "    <tr>\n",
       "      <th>u_chgset</th>\n",
       "      <td>-0.079986</td>\n",
       "      <td>0.362240</td>\n",
       "      <td>-0.013196</td>\n",
       "      <td>0.007293</td>\n",
       "      <td>-0.055221</td>\n",
       "      <td>0.177892</td>\n",
       "    </tr>\n",
       "    <tr>\n",
       "      <th>dmean_chgset</th>\n",
       "      <td>0.000785</td>\n",
       "      <td>0.001073</td>\n",
       "      <td>0.000978</td>\n",
       "      <td>0.001257</td>\n",
       "      <td>-0.000627</td>\n",
       "      <td>0.000710</td>\n",
       "    </tr>\n",
       "  </tbody>\n",
       "</table>\n",
       "</div>"
      ],
      "text/plain": [
       "                         PC1       PC2       PC3       PC4       PC5       PC6\n",
       "lifespan           -0.001143  0.144725 -0.005381  0.040387  0.012579  0.014347\n",
       "n_inscription_days  0.053813  0.100546  0.014008  0.270947 -0.058583 -0.063313\n",
       "n_activity_days    -0.018216  0.359796 -0.003768  0.059718  0.005612  0.123337\n",
       "u_chgset           -0.079986  0.362240 -0.013196  0.007293 -0.055221  0.177892\n",
       "dmean_chgset        0.000785  0.001073  0.000978  0.001257 -0.000627  0.000710"
      ]
     },
     "execution_count": 20,
     "metadata": {},
     "output_type": "execute_result"
    }
   ],
   "source": [
    "pcafeatures.head()"
   ]
  },
  {
   "cell_type": "code",
   "execution_count": 21,
   "metadata": {},
   "outputs": [
    {
     "data": {
      "text/plain": [
       "(40, 6)"
      ]
     },
     "execution_count": 21,
     "metadata": {},
     "output_type": "execute_result"
    }
   ],
   "source": [
    "pcafeatures.shape"
   ]
  },
  {
   "cell_type": "markdown",
   "metadata": {},
   "source": [
    "## pcaind : "
   ]
  },
  {
   "cell_type": "code",
   "execution_count": 22,
   "metadata": {},
   "outputs": [
    {
     "data": {
      "text/html": [
       "<div>\n",
       "<style scoped>\n",
       "    .dataframe tbody tr th:only-of-type {\n",
       "        vertical-align: middle;\n",
       "    }\n",
       "\n",
       "    .dataframe tbody tr th {\n",
       "        vertical-align: top;\n",
       "    }\n",
       "\n",
       "    .dataframe thead th {\n",
       "        text-align: right;\n",
       "    }\n",
       "</style>\n",
       "<table border=\"1\" class=\"dataframe\">\n",
       "  <thead>\n",
       "    <tr style=\"text-align: right;\">\n",
       "      <th></th>\n",
       "      <th>PC1</th>\n",
       "      <th>PC2</th>\n",
       "      <th>PC3</th>\n",
       "      <th>PC4</th>\n",
       "      <th>PC5</th>\n",
       "      <th>PC6</th>\n",
       "    </tr>\n",
       "    <tr>\n",
       "      <th>uid</th>\n",
       "      <th></th>\n",
       "      <th></th>\n",
       "      <th></th>\n",
       "      <th></th>\n",
       "      <th></th>\n",
       "      <th></th>\n",
       "    </tr>\n",
       "  </thead>\n",
       "  <tbody>\n",
       "    <tr>\n",
       "      <th>1626</th>\n",
       "      <td>-0.053162</td>\n",
       "      <td>1.532156</td>\n",
       "      <td>-0.364865</td>\n",
       "      <td>0.956333</td>\n",
       "      <td>-0.421991</td>\n",
       "      <td>-0.543583</td>\n",
       "    </tr>\n",
       "    <tr>\n",
       "      <th>3130</th>\n",
       "      <td>-0.235988</td>\n",
       "      <td>-0.970916</td>\n",
       "      <td>-0.734822</td>\n",
       "      <td>0.806500</td>\n",
       "      <td>-0.308419</td>\n",
       "      <td>-0.291420</td>\n",
       "    </tr>\n",
       "    <tr>\n",
       "      <th>1399</th>\n",
       "      <td>-0.211078</td>\n",
       "      <td>-0.937251</td>\n",
       "      <td>-0.737222</td>\n",
       "      <td>0.824992</td>\n",
       "      <td>-0.282533</td>\n",
       "      <td>-0.312313</td>\n",
       "    </tr>\n",
       "    <tr>\n",
       "      <th>2488</th>\n",
       "      <td>-0.110220</td>\n",
       "      <td>1.014086</td>\n",
       "      <td>0.007311</td>\n",
       "      <td>1.074932</td>\n",
       "      <td>-0.661216</td>\n",
       "      <td>-0.205904</td>\n",
       "    </tr>\n",
       "    <tr>\n",
       "      <th>5657</th>\n",
       "      <td>-0.977246</td>\n",
       "      <td>0.793641</td>\n",
       "      <td>-0.448550</td>\n",
       "      <td>1.127890</td>\n",
       "      <td>-0.554607</td>\n",
       "      <td>-0.403360</td>\n",
       "    </tr>\n",
       "  </tbody>\n",
       "</table>\n",
       "</div>"
      ],
      "text/plain": [
       "           PC1       PC2       PC3       PC4       PC5       PC6\n",
       "uid                                                             \n",
       "1626 -0.053162  1.532156 -0.364865  0.956333 -0.421991 -0.543583\n",
       "3130 -0.235988 -0.970916 -0.734822  0.806500 -0.308419 -0.291420\n",
       "1399 -0.211078 -0.937251 -0.737222  0.824992 -0.282533 -0.312313\n",
       "2488 -0.110220  1.014086  0.007311  1.074932 -0.661216 -0.205904\n",
       "5657 -0.977246  0.793641 -0.448550  1.127890 -0.554607 -0.403360"
      ]
     },
     "execution_count": 22,
     "metadata": {},
     "output_type": "execute_result"
    }
   ],
   "source": [
    "pcaind.head()"
   ]
  },
  {
   "cell_type": "code",
   "execution_count": 23,
   "metadata": {},
   "outputs": [
    {
     "data": {
      "text/plain": [
       "(3146, 6)"
      ]
     },
     "execution_count": 23,
     "metadata": {},
     "output_type": "execute_result"
    }
   ],
   "source": [
    "pcaind.shape"
   ]
  },
  {
   "cell_type": "markdown",
   "metadata": {},
   "source": [
    "## Osm users :"
   ]
  },
  {
   "cell_type": "code",
   "execution_count": null,
   "metadata": {
    "collapsed": true
   },
   "outputs": [],
   "source": []
  }
 ],
 "metadata": {
  "kernelspec": {
   "display_name": "Python [conda env:meetup]",
   "language": "python",
   "name": "conda-env-meetup-py"
  },
  "language_info": {
   "codemirror_mode": {
    "name": "ipython",
    "version": 3
   },
   "file_extension": ".py",
   "mimetype": "text/x-python",
   "name": "python",
   "nbconvert_exporter": "python",
   "pygments_lexer": "ipython3",
   "version": "3.5.6"
  }
 },
 "nbformat": 4,
 "nbformat_minor": 2
}
